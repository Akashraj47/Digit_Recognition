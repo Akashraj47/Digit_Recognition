{
 "cells": [
  {
   "cell_type": "markdown",
   "id": "1b30bad2",
   "metadata": {},
   "source": [
    "# Fetching Dataset"
   ]
  },
  {
   "cell_type": "code",
   "execution_count": 2,
   "id": "96134c44",
   "metadata": {},
   "outputs": [],
   "source": [
    "import matplotlib \n",
    "import matplotlib.pyplot as plt\n",
    "import pandas as pd\n",
    "import numpy as np\n",
    "import cv2 as cv\n",
    "%matplotlib inline"
   ]
  },
  {
   "cell_type": "code",
   "execution_count": 3,
   "id": "514bacb1",
   "metadata": {},
   "outputs": [],
   "source": [
    "from sklearn.datasets import fetch_openml\n",
    "mnist = fetch_openml('mnist_784')"
   ]
  },
  {
   "cell_type": "code",
   "execution_count": 4,
   "id": "9449a9b0",
   "metadata": {},
   "outputs": [],
   "source": [
    "x = mnist.data\n",
    "y = mnist.target"
   ]
  },
  {
   "cell_type": "code",
   "execution_count": 5,
   "id": "a2ce6241",
   "metadata": {},
   "outputs": [],
   "source": [
    "x_train = x[:60000]\n",
    "y_train = y[:60000]"
   ]
  },
  {
   "cell_type": "code",
   "execution_count": 6,
   "id": "b73fb8ec",
   "metadata": {},
   "outputs": [],
   "source": [
    "x_test = x[60000:]\n",
    "y_test = y[60000:]"
   ]
  },
  {
   "cell_type": "code",
   "execution_count": 7,
   "id": "c0e712d9",
   "metadata": {},
   "outputs": [],
   "source": [
    "x_train = x_train.to_numpy()\n",
    "y_train = y_train.to_numpy()\n",
    "x_test = x_test.to_numpy()\n",
    "y_test = y_test.to_numpy()"
   ]
  },
  {
   "cell_type": "code",
   "execution_count": 8,
   "id": "a98bc6c4",
   "metadata": {},
   "outputs": [
    {
     "data": {
      "text/plain": [
       "'5'"
      ]
     },
     "execution_count": 8,
     "metadata": {},
     "output_type": "execute_result"
    },
    {
     "data": {
      "image/png": "[encoded data removed]",
      "text/plain": [
       "<Figure size 640x480 with 1 Axes>"
      ]
     },
     "metadata": {},
     "output_type": "display_data"
    }
   ],
   "source": [
    "some_digit = x_train[20000]\n",
    "some_digit_image = some_digit.reshape(28,28)\n",
    "plt.imshow(some_digit_image)\n",
    "y_train[20000]"
   ]
  },
  {
   "cell_type": "code",
   "execution_count": 9,
   "id": "636246b9",
   "metadata": {},
   "outputs": [],
   "source": [
    "class nnetwork:\n",
    "    def __init__(self):\n",
    "        self.w1 = np.random.randn(20,784) * np.sqrt(1. / 20)\n",
    "        self.w2 = np.random.randn(10,20) * np.sqrt(1. / 10)\n",
    "        self.learning_rate = 0.001\n",
    "        self.epocs = 10\n",
    "    \n",
    "    def sigmoid(self,x):\n",
    "        return (1 / 1 + np.exp(-x))\n",
    "    \n",
    "    def diff_sigmoid(self,x):\n",
    "        return (self.sigmoid(x)*(1 - self.sigmoid(x)))\n",
    "    \n",
    "    def softmax(self,x):\n",
    "        exps = np.exp(x - x.max())\n",
    "        return exps / np.sum(exps,axis = 0)\n",
    "    \n",
    "    def diff_softmax(self,x):\n",
    "        exps = np.exp(x - x.max())\n",
    "        return exps / np.sum(exps,axis = 0) * (1 - exps / np.sum(exps,axis = 0))\n",
    "        \n",
    "    def forward_propagation(self,x):\n",
    "        self.h_in = np.dot(self.w1,x)\n",
    "        self.h_out = self.sigmoid(self.h_in)\n",
    "        \n",
    "        self.o_in = np.dot(self.w2,self.h_out)\n",
    "        self.out = self.softmax(self.o_in)\n",
    "        \n",
    "        return self.out\n",
    "    \n",
    "    def backward_propagation(self,output,y,x):\n",
    "        error1 = 2 * (output - y) / output.shape[0] * self.diff_softmax(self.o_in)\n",
    "        change_w2 = np.outer(error1,self.h_out)\n",
    "\n",
    "        error2 = np.dot(self.w2.T,error1) * self.diff_sigmoid(self.h_in)\n",
    "        change_w1 = np.outer(error2,x)\n",
    "        self.w2 = self.w2 - self.learning_rate * change_w2\n",
    "        self.w1 = self.w1 - self.learning_rate * change_w1\n",
    "\n",
    "    def cal_accuracy(self,x_test,y_test):\n",
    "        accuracy = []\n",
    "        for i in range(10000):\n",
    "            output = self.forward_propagation((x_test[i] / 255.0) * 0.99 + 0.01)\n",
    "            y = np.zeros(10) + 0.01\n",
    "            y[int(y_test[i])] = 0.99\n",
    "            comp = (np.argmax(output) == np.argmax(y))\n",
    "            accuracy.append(comp)\n",
    "        return accuracy\n",
    "    \n",
    "    def train_network(self,x_train,y_train):\n",
    "        for epoc in range(self.epocs):\n",
    "            for i in range(60000):\n",
    "                y = np.zeros(10) + 0.01\n",
    "                y[int(y_train[i])] = 0.99\n",
    "                output = self.forward_propagation((x_train[i] / 255.0) * 0.99 + 0.01)\n",
    "                self.backward_propagation(output,y,(x_train[i] / 255.0) * 0.99 + 0.01)\n",
    "            \n",
    "            accuracy = self.cal_accuracy(x_test,y_test)\n",
    "            print(f'epoc = {epoc+1} , Accuracy = {np.mean(accuracy) * 100}%')\n",
    "    "
   ]
  },
  {
   "cell_type": "code",
   "execution_count": 16,
   "id": "cd83779b",
   "metadata": {},
   "outputs": [
    {
     "name": "stdout",
     "output_type": "stream",
     "text": [
      "epoc = 1 , Accuracy = 42.61%\n",
      "epoc = 2 , Accuracy = 59.38%\n",
      "epoc = 3 , Accuracy = 73.7%\n",
      "epoc = 4 , Accuracy = 80.67%\n",
      "epoc = 5 , Accuracy = 84.17%\n",
      "epoc = 6 , Accuracy = 85.63%\n",
      "epoc = 7 , Accuracy = 86.33999999999999%\n",
      "epoc = 8 , Accuracy = 86.61999999999999%\n",
      "epoc = 9 , Accuracy = 87.14%\n",
      "epoc = 10 , Accuracy = 87.07000000000001%\n"
     ]
    }
   ],
   "source": [
    "Ann = nnetwork()\n",
    "Ann.train_network(x_train,y_train) "
   ]
  },
  {
   "cell_type": "code",
   "execution_count": 11,
   "id": "97b0f5a5",
   "metadata": {},
   "outputs": [
    {
     "name": "stdout",
     "output_type": "stream",
     "text": [
      "5\n"
     ]
    },
    {
     "data": {
      "image/png": "[encoded data removed]",
      "text/plain": [
       "<Figure size 640x480 with 1 Axes>"
      ]
     },
     "metadata": {},
     "output_type": "display_data"
    }
   ],
   "source": [
    "x = x_test[100]\n",
    "plt.imshow(x.reshape(28,28),cmap='binary')\n",
    "x = x / 255.0 * 0.99 + 0.01\n",
    "out = Ann.forward_propagation(x)\n",
    "print(np.argmax(out))"
   ]
  },
  {
   "cell_type": "code",
   "execution_count": 24,
   "id": "d2783b3f",
   "metadata": {},
   "outputs": [
    {
     "ename": "IndexError",
     "evalue": "too many indices for array: array is 2-dimensional, but 3 were indexed",
     "output_type": "error",
     "traceback": [
      "\u001b[1;31m---------------------------------------------------------------------------\u001b[0m",
      "\u001b[1;31mIndexError\u001b[0m                                Traceback (most recent call last)",
      "Cell \u001b[1;32mIn [24], line 2\u001b[0m\n\u001b[0;32m      1\u001b[0m img \u001b[38;5;241m=\u001b[39m cv\u001b[38;5;241m.\u001b[39mimread(\u001b[38;5;124m'\u001b[39m\u001b[38;5;124mdigit2.png\u001b[39m\u001b[38;5;124m'\u001b[39m)[:,:,\u001b[38;5;241m0\u001b[39m]\n\u001b[1;32m----> 2\u001b[0m img \u001b[38;5;241m=\u001b[39m img[:,:,\u001b[38;5;241m0\u001b[39m];\n\u001b[0;32m      3\u001b[0m img \u001b[38;5;241m=\u001b[39m np\u001b[38;5;241m.\u001b[39minvert(img)\n\u001b[0;32m      4\u001b[0m plt\u001b[38;5;241m.\u001b[39mimshow(img,cmap\u001b[38;5;241m=\u001b[39m\u001b[38;5;124m'\u001b[39m\u001b[38;5;124mbinary\u001b[39m\u001b[38;5;124m'\u001b[39m)\n",
      "\u001b[1;31mIndexError\u001b[0m: too many indices for array: array is 2-dimensional, but 3 were indexed"
     ]
    }
   ],
   "source": [
    "img = cv.imread('digit2.png')[:,:,0]\n",
    "img = img[:,:,0];\n",
    "img = np.invert(img)\n",
    "plt.imshow(img,cmap='binary')\n",
    "img = img.flatten()\n",
    "img = img / 255.0 * 0.99 + 0.01\n",
    "output = Ann.forward_propagation(img)\n",
    "print(np.argmax(output))"
   ]
  },
  {
   "cell_type": "code",
   "execution_count": 25,
   "id": "50b8765f",
   "metadata": {},
   "outputs": [
    {
     "name": "stdout",
     "output_type": "stream",
     "text": [
      "8\n"
     ]
    },
    {
     "data": {
      "image/png": "[encoded data removed]",
      "text/plain": [
       "<Figure size 640x480 with 1 Axes>"
      ]
     },
     "metadata": {},
     "output_type": "display_data"
    }
   ],
   "source": [
    "img = cv.imread('digit3.png')[:,:,0]\n",
    "img = np.invert(img)\n",
    "plt.imshow(img,cmap='binary')\n",
    "img = img.flatten()\n",
    "img = img / 255.0 * 0.99 + 0.01\n",
    "output = Ann.forward_propagation(img)\n",
    "print(np.argmax(output))"
   ]
  },
  {
   "cell_type": "code",
   "execution_count": 26,
   "id": "f449644e",
   "metadata": {},
   "outputs": [
    {
     "name": "stdout",
     "output_type": "stream",
     "text": [
      "9\n"
     ]
    },
    {
     "data": {
      "image/png": "[encoded data removed]",
      "text/plain": [
       "<Figure size 640x480 with 1 Axes>"
      ]
     },
     "metadata": {},
     "output_type": "display_data"
    }
   ],
   "source": [
    "img = cv.imread('digit4.png')[:,:,0]\n",
    "img = np.invert(img)\n",
    "plt.imshow(img,cmap='binary')\n",
    "img = img.flatten()\n",
    "img = img / 255.0 * 0.99 + 0.01\n",
    "output = Ann.forward_propagation(img)\n",
    "print(np.argmax(output))"
   ]
  },
  {
   "cell_type": "code",
   "execution_count": 27,
   "id": "4301e518",
   "metadata": {},
   "outputs": [
    {
     "name": "stdout",
     "output_type": "stream",
     "text": [
      "5\n"
     ]
    },
    {
     "data": {
      "image/png": "[encoded data removed]",
      "text/plain": [
       "<Figure size 640x480 with 1 Axes>"
      ]
     },
     "metadata": {},
     "output_type": "display_data"
    }
   ],
   "source": [
    "img = cv.imread('digit5.png')[:,:,0]\n",
    "img = np.invert(img)\n",
    "plt.imshow(img,cmap='binary')\n",
    "img = img.flatten()\n",
    "img = img / 255.0 * 0.99 + 0.01\n",
    "output = Ann.forward_propagation(img)\n",
    "print(np.argmax(output))"
   ]
  }
 ],
 "metadata": {
  "kernelspec": {
   "display_name": "Python 3 (ipykernel)",
   "language": "python",
   "name": "python3"
  },
  "language_info": {
   "codemirror_mode": {
    "name": "ipython",
    "version": 3
   },
   "file_extension": ".py",
   "mimetype": "text/x-python",
   "name": "python",
   "nbconvert_exporter": "python",
   "pygments_lexer": "ipython3",
   "version": "3.9.6"
  },
  "vscode": {
   "interpreter": {
    "hash": "45d68897d4f94f52fa1223ed10146ef203f5dc9dd3222ab47bd1e0058a2b92b4"
   }
  }
 },
 "nbformat": 4,
 "nbformat_minor": 5
}
